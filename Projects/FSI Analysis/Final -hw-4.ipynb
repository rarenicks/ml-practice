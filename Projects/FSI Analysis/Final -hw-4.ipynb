{
 "cells": [
  {
   "cell_type": "code",
   "execution_count": 1,
   "metadata": {},
   "outputs": [],
   "source": [
    "import pandas as pd \n",
    "import numpy as np\n",
    "\n",
    "import matplotlib.pyplot as plt\n",
    "import seaborn as sns \n",
    "\n",
    "from sklearn.model_selection import train_test_split\n",
    "\n",
    "import statsmodels.api as sm\n",
    "import statsmodels.formula.api as smf"
   ]
  },
  {
   "cell_type": "code",
   "execution_count": 45,
   "metadata": {},
   "outputs": [
    {
     "data": {
      "text/html": [
       "<div>\n",
       "<style scoped>\n",
       "    .dataframe tbody tr th:only-of-type {\n",
       "        vertical-align: middle;\n",
       "    }\n",
       "\n",
       "    .dataframe tbody tr th {\n",
       "        vertical-align: top;\n",
       "    }\n",
       "\n",
       "    .dataframe thead th {\n",
       "        text-align: right;\n",
       "    }\n",
       "</style>\n",
       "<table border=\"1\" class=\"dataframe\">\n",
       "  <thead>\n",
       "    <tr style=\"text-align: right;\">\n",
       "      <th></th>\n",
       "      <th>Country</th>\n",
       "      <th>Year</th>\n",
       "      <th>Rank</th>\n",
       "      <th>Total</th>\n",
       "      <th>C1: Security Apparatus</th>\n",
       "      <th>C2: Factionalized Elites</th>\n",
       "      <th>C3: Group Grievance</th>\n",
       "      <th>E1: Economy</th>\n",
       "      <th>E2: Economic Inequality</th>\n",
       "      <th>E3: Human Flight and Brain Drain</th>\n",
       "      <th>P1: State Legitimacy</th>\n",
       "      <th>P2: Public Services</th>\n",
       "      <th>P3: Human Rights</th>\n",
       "      <th>S1: Demographic Pressures</th>\n",
       "      <th>S2: Refugees and IDPs</th>\n",
       "      <th>X1: External Intervention</th>\n",
       "      <th>Change from Previous Year</th>\n",
       "    </tr>\n",
       "  </thead>\n",
       "  <tbody>\n",
       "    <tr>\n",
       "      <th>0</th>\n",
       "      <td>Yemen</td>\n",
       "      <td>2020-01-01</td>\n",
       "      <td>1st</td>\n",
       "      <td>112.438694</td>\n",
       "      <td>9.700000</td>\n",
       "      <td>10.0</td>\n",
       "      <td>9.69887</td>\n",
       "      <td>9.400000</td>\n",
       "      <td>7.800000</td>\n",
       "      <td>7.000000</td>\n",
       "      <td>9.889823</td>\n",
       "      <td>9.500000</td>\n",
       "      <td>9.950000</td>\n",
       "      <td>9.800000</td>\n",
       "      <td>9.7</td>\n",
       "      <td>10.000000</td>\n",
       "      <td>-1.061306</td>\n",
       "    </tr>\n",
       "    <tr>\n",
       "      <th>1</th>\n",
       "      <td>Somalia</td>\n",
       "      <td>2020-01-01</td>\n",
       "      <td>2nd</td>\n",
       "      <td>110.888959</td>\n",
       "      <td>9.811328</td>\n",
       "      <td>10.0</td>\n",
       "      <td>8.60000</td>\n",
       "      <td>9.100000</td>\n",
       "      <td>9.367151</td>\n",
       "      <td>8.900000</td>\n",
       "      <td>8.888107</td>\n",
       "      <td>9.100000</td>\n",
       "      <td>9.000000</td>\n",
       "      <td>9.981087</td>\n",
       "      <td>9.1</td>\n",
       "      <td>9.041286</td>\n",
       "      <td>-1.311041</td>\n",
       "    </tr>\n",
       "    <tr>\n",
       "      <th>2</th>\n",
       "      <td>South Sudan</td>\n",
       "      <td>2020-01-01</td>\n",
       "      <td>3rd</td>\n",
       "      <td>110.752190</td>\n",
       "      <td>9.400000</td>\n",
       "      <td>9.7</td>\n",
       "      <td>9.10000</td>\n",
       "      <td>9.500000</td>\n",
       "      <td>9.200000</td>\n",
       "      <td>6.800000</td>\n",
       "      <td>9.944415</td>\n",
       "      <td>9.500000</td>\n",
       "      <td>9.000000</td>\n",
       "      <td>9.450357</td>\n",
       "      <td>9.7</td>\n",
       "      <td>9.457419</td>\n",
       "      <td>-1.447810</td>\n",
       "    </tr>\n",
       "    <tr>\n",
       "      <th>3</th>\n",
       "      <td>Syria</td>\n",
       "      <td>2020-01-01</td>\n",
       "      <td>4th</td>\n",
       "      <td>110.749697</td>\n",
       "      <td>9.900000</td>\n",
       "      <td>9.9</td>\n",
       "      <td>10.00000</td>\n",
       "      <td>8.686367</td>\n",
       "      <td>7.200000</td>\n",
       "      <td>8.413343</td>\n",
       "      <td>9.950000</td>\n",
       "      <td>9.100000</td>\n",
       "      <td>10.000000</td>\n",
       "      <td>7.600000</td>\n",
       "      <td>10.0</td>\n",
       "      <td>9.999986</td>\n",
       "      <td>-0.850303</td>\n",
       "    </tr>\n",
       "    <tr>\n",
       "      <th>4</th>\n",
       "      <td>Congo Democratic Republic</td>\n",
       "      <td>2020-01-01</td>\n",
       "      <td>5th</td>\n",
       "      <td>109.394621</td>\n",
       "      <td>8.500000</td>\n",
       "      <td>9.8</td>\n",
       "      <td>9.70000</td>\n",
       "      <td>8.000000</td>\n",
       "      <td>8.619842</td>\n",
       "      <td>6.900000</td>\n",
       "      <td>9.660971</td>\n",
       "      <td>9.464911</td>\n",
       "      <td>9.548897</td>\n",
       "      <td>9.800000</td>\n",
       "      <td>10.0</td>\n",
       "      <td>9.400000</td>\n",
       "      <td>-0.805379</td>\n",
       "    </tr>\n",
       "  </tbody>\n",
       "</table>\n",
       "</div>"
      ],
      "text/plain": [
       "                     Country        Year Rank       Total  \\\n",
       "0                      Yemen  2020-01-01  1st  112.438694   \n",
       "1                    Somalia  2020-01-01  2nd  110.888959   \n",
       "2                South Sudan  2020-01-01  3rd  110.752190   \n",
       "3                      Syria  2020-01-01  4th  110.749697   \n",
       "4  Congo Democratic Republic  2020-01-01  5th  109.394621   \n",
       "\n",
       "   C1: Security Apparatus  C2: Factionalized Elites  C3: Group Grievance  \\\n",
       "0                9.700000                      10.0              9.69887   \n",
       "1                9.811328                      10.0              8.60000   \n",
       "2                9.400000                       9.7              9.10000   \n",
       "3                9.900000                       9.9             10.00000   \n",
       "4                8.500000                       9.8              9.70000   \n",
       "\n",
       "   E1: Economy  E2: Economic Inequality  E3: Human Flight and Brain Drain  \\\n",
       "0     9.400000                 7.800000                          7.000000   \n",
       "1     9.100000                 9.367151                          8.900000   \n",
       "2     9.500000                 9.200000                          6.800000   \n",
       "3     8.686367                 7.200000                          8.413343   \n",
       "4     8.000000                 8.619842                          6.900000   \n",
       "\n",
       "   P1: State Legitimacy  P2: Public Services  P3: Human Rights  \\\n",
       "0              9.889823             9.500000          9.950000   \n",
       "1              8.888107             9.100000          9.000000   \n",
       "2              9.944415             9.500000          9.000000   \n",
       "3              9.950000             9.100000         10.000000   \n",
       "4              9.660971             9.464911          9.548897   \n",
       "\n",
       "   S1: Demographic Pressures  S2: Refugees and IDPs  \\\n",
       "0                   9.800000                    9.7   \n",
       "1                   9.981087                    9.1   \n",
       "2                   9.450357                    9.7   \n",
       "3                   7.600000                   10.0   \n",
       "4                   9.800000                   10.0   \n",
       "\n",
       "   X1: External Intervention  Change from Previous Year  \n",
       "0                  10.000000                  -1.061306  \n",
       "1                   9.041286                  -1.311041  \n",
       "2                   9.457419                  -1.447810  \n",
       "3                   9.999986                  -0.850303  \n",
       "4                   9.400000                  -0.805379  "
      ]
     },
     "execution_count": 45,
     "metadata": {},
     "output_type": "execute_result"
    }
   ],
   "source": [
    "# reading the data \n",
    "readFile = pd.read_excel(\"fsi-2020.xlsx\")\n",
    "readFile.to_csv(\"fsi-2020.csv\", index=None,header=True)\n",
    "data = pd.DataFrame(pd.read_csv(\"fsi-2020.csv\"))\n",
    "data.head()"
   ]
  },
  {
   "cell_type": "code",
   "execution_count": 47,
   "metadata": {},
   "outputs": [
    {
     "data": {
      "text/html": [
       "<div>\n",
       "<style scoped>\n",
       "    .dataframe tbody tr th:only-of-type {\n",
       "        vertical-align: middle;\n",
       "    }\n",
       "\n",
       "    .dataframe tbody tr th {\n",
       "        vertical-align: top;\n",
       "    }\n",
       "\n",
       "    .dataframe thead th {\n",
       "        text-align: right;\n",
       "    }\n",
       "</style>\n",
       "<table border=\"1\" class=\"dataframe\">\n",
       "  <thead>\n",
       "    <tr style=\"text-align: right;\">\n",
       "      <th></th>\n",
       "      <th>Country</th>\n",
       "      <th>Year</th>\n",
       "      <th>Rank</th>\n",
       "      <th>total</th>\n",
       "      <th>C1: Security Apparatus</th>\n",
       "      <th>C2: Factionalized Elites</th>\n",
       "      <th>grievance</th>\n",
       "      <th>economy</th>\n",
       "      <th>E2: Economic Inequality</th>\n",
       "      <th>E3: Human Flight and Brain Drain</th>\n",
       "      <th>P1: State Legitimacy</th>\n",
       "      <th>P2: Public Services</th>\n",
       "      <th>P3: Human Rights</th>\n",
       "      <th>S1: Demographic Pressures</th>\n",
       "      <th>S2: Refugees and IDPs</th>\n",
       "      <th>X1: External Intervention</th>\n",
       "      <th>Change from Previous Year</th>\n",
       "    </tr>\n",
       "  </thead>\n",
       "  <tbody>\n",
       "    <tr>\n",
       "      <th>0</th>\n",
       "      <td>Yemen</td>\n",
       "      <td>2020-01-01</td>\n",
       "      <td>1st</td>\n",
       "      <td>112.438694</td>\n",
       "      <td>9.700000</td>\n",
       "      <td>10.0</td>\n",
       "      <td>9.69887</td>\n",
       "      <td>9.400000</td>\n",
       "      <td>7.800000</td>\n",
       "      <td>7.000000</td>\n",
       "      <td>9.889823</td>\n",
       "      <td>9.500000</td>\n",
       "      <td>9.950000</td>\n",
       "      <td>9.800000</td>\n",
       "      <td>9.7</td>\n",
       "      <td>10.000000</td>\n",
       "      <td>-1.061306</td>\n",
       "    </tr>\n",
       "    <tr>\n",
       "      <th>1</th>\n",
       "      <td>Somalia</td>\n",
       "      <td>2020-01-01</td>\n",
       "      <td>2nd</td>\n",
       "      <td>110.888959</td>\n",
       "      <td>9.811328</td>\n",
       "      <td>10.0</td>\n",
       "      <td>8.60000</td>\n",
       "      <td>9.100000</td>\n",
       "      <td>9.367151</td>\n",
       "      <td>8.900000</td>\n",
       "      <td>8.888107</td>\n",
       "      <td>9.100000</td>\n",
       "      <td>9.000000</td>\n",
       "      <td>9.981087</td>\n",
       "      <td>9.1</td>\n",
       "      <td>9.041286</td>\n",
       "      <td>-1.311041</td>\n",
       "    </tr>\n",
       "    <tr>\n",
       "      <th>2</th>\n",
       "      <td>South Sudan</td>\n",
       "      <td>2020-01-01</td>\n",
       "      <td>3rd</td>\n",
       "      <td>110.752190</td>\n",
       "      <td>9.400000</td>\n",
       "      <td>9.7</td>\n",
       "      <td>9.10000</td>\n",
       "      <td>9.500000</td>\n",
       "      <td>9.200000</td>\n",
       "      <td>6.800000</td>\n",
       "      <td>9.944415</td>\n",
       "      <td>9.500000</td>\n",
       "      <td>9.000000</td>\n",
       "      <td>9.450357</td>\n",
       "      <td>9.7</td>\n",
       "      <td>9.457419</td>\n",
       "      <td>-1.447810</td>\n",
       "    </tr>\n",
       "    <tr>\n",
       "      <th>3</th>\n",
       "      <td>Syria</td>\n",
       "      <td>2020-01-01</td>\n",
       "      <td>4th</td>\n",
       "      <td>110.749697</td>\n",
       "      <td>9.900000</td>\n",
       "      <td>9.9</td>\n",
       "      <td>10.00000</td>\n",
       "      <td>8.686367</td>\n",
       "      <td>7.200000</td>\n",
       "      <td>8.413343</td>\n",
       "      <td>9.950000</td>\n",
       "      <td>9.100000</td>\n",
       "      <td>10.000000</td>\n",
       "      <td>7.600000</td>\n",
       "      <td>10.0</td>\n",
       "      <td>9.999986</td>\n",
       "      <td>-0.850303</td>\n",
       "    </tr>\n",
       "    <tr>\n",
       "      <th>4</th>\n",
       "      <td>Congo Democratic Republic</td>\n",
       "      <td>2020-01-01</td>\n",
       "      <td>5th</td>\n",
       "      <td>109.394621</td>\n",
       "      <td>8.500000</td>\n",
       "      <td>9.8</td>\n",
       "      <td>9.70000</td>\n",
       "      <td>8.000000</td>\n",
       "      <td>8.619842</td>\n",
       "      <td>6.900000</td>\n",
       "      <td>9.660971</td>\n",
       "      <td>9.464911</td>\n",
       "      <td>9.548897</td>\n",
       "      <td>9.800000</td>\n",
       "      <td>10.0</td>\n",
       "      <td>9.400000</td>\n",
       "      <td>-0.805379</td>\n",
       "    </tr>\n",
       "  </tbody>\n",
       "</table>\n",
       "</div>"
      ],
      "text/plain": [
       "                     Country        Year Rank       total  \\\n",
       "0                      Yemen  2020-01-01  1st  112.438694   \n",
       "1                    Somalia  2020-01-01  2nd  110.888959   \n",
       "2                South Sudan  2020-01-01  3rd  110.752190   \n",
       "3                      Syria  2020-01-01  4th  110.749697   \n",
       "4  Congo Democratic Republic  2020-01-01  5th  109.394621   \n",
       "\n",
       "   C1: Security Apparatus  C2: Factionalized Elites  grievance   economy  \\\n",
       "0                9.700000                      10.0    9.69887  9.400000   \n",
       "1                9.811328                      10.0    8.60000  9.100000   \n",
       "2                9.400000                       9.7    9.10000  9.500000   \n",
       "3                9.900000                       9.9   10.00000  8.686367   \n",
       "4                8.500000                       9.8    9.70000  8.000000   \n",
       "\n",
       "   E2: Economic Inequality  E3: Human Flight and Brain Drain  \\\n",
       "0                 7.800000                          7.000000   \n",
       "1                 9.367151                          8.900000   \n",
       "2                 9.200000                          6.800000   \n",
       "3                 7.200000                          8.413343   \n",
       "4                 8.619842                          6.900000   \n",
       "\n",
       "   P1: State Legitimacy  P2: Public Services  P3: Human Rights  \\\n",
       "0              9.889823             9.500000          9.950000   \n",
       "1              8.888107             9.100000          9.000000   \n",
       "2              9.944415             9.500000          9.000000   \n",
       "3              9.950000             9.100000         10.000000   \n",
       "4              9.660971             9.464911          9.548897   \n",
       "\n",
       "   S1: Demographic Pressures  S2: Refugees and IDPs  \\\n",
       "0                   9.800000                    9.7   \n",
       "1                   9.981087                    9.1   \n",
       "2                   9.450357                    9.7   \n",
       "3                   7.600000                   10.0   \n",
       "4                   9.800000                   10.0   \n",
       "\n",
       "   X1: External Intervention  Change from Previous Year  \n",
       "0                  10.000000                  -1.061306  \n",
       "1                   9.041286                  -1.311041  \n",
       "2                   9.457419                  -1.447810  \n",
       "3                   9.999986                  -0.850303  \n",
       "4                   9.400000                  -0.805379  "
      ]
     },
     "execution_count": 47,
     "metadata": {},
     "output_type": "execute_result"
    }
   ],
   "source": [
    "data.rename (columns = {'Total': 'total','C3: Group Grievance':'grievance', 'E1: Economy':'economy'}, inplace = True)\n",
    "\n",
    "data. head()"
   ]
  },
  {
   "cell_type": "code",
   "execution_count": 48,
   "metadata": {},
   "outputs": [
    {
     "data": {
      "text/html": [
       "<div>\n",
       "<style scoped>\n",
       "    .dataframe tbody tr th:only-of-type {\n",
       "        vertical-align: middle;\n",
       "    }\n",
       "\n",
       "    .dataframe tbody tr th {\n",
       "        vertical-align: top;\n",
       "    }\n",
       "\n",
       "    .dataframe thead th {\n",
       "        text-align: right;\n",
       "    }\n",
       "</style>\n",
       "<table border=\"1\" class=\"dataframe\">\n",
       "  <thead>\n",
       "    <tr style=\"text-align: right;\">\n",
       "      <th></th>\n",
       "      <th>total</th>\n",
       "      <th>C1: Security Apparatus</th>\n",
       "      <th>C2: Factionalized Elites</th>\n",
       "      <th>grievance</th>\n",
       "      <th>economy</th>\n",
       "      <th>E2: Economic Inequality</th>\n",
       "      <th>E3: Human Flight and Brain Drain</th>\n",
       "      <th>P1: State Legitimacy</th>\n",
       "      <th>P2: Public Services</th>\n",
       "      <th>P3: Human Rights</th>\n",
       "      <th>S1: Demographic Pressures</th>\n",
       "      <th>S2: Refugees and IDPs</th>\n",
       "      <th>X1: External Intervention</th>\n",
       "      <th>Change from Previous Year</th>\n",
       "    </tr>\n",
       "  </thead>\n",
       "  <tbody>\n",
       "    <tr>\n",
       "      <th>total</th>\n",
       "      <td>1.000000</td>\n",
       "      <td>0.887130</td>\n",
       "      <td>0.874747</td>\n",
       "      <td>0.672733</td>\n",
       "      <td>0.858549</td>\n",
       "      <td>0.866416</td>\n",
       "      <td>0.779708</td>\n",
       "      <td>0.856040</td>\n",
       "      <td>0.904541</td>\n",
       "      <td>0.842300</td>\n",
       "      <td>0.882506</td>\n",
       "      <td>0.819482</td>\n",
       "      <td>0.827935</td>\n",
       "      <td>0.112451</td>\n",
       "    </tr>\n",
       "    <tr>\n",
       "      <th>C1: Security Apparatus</th>\n",
       "      <td>0.887130</td>\n",
       "      <td>1.000000</td>\n",
       "      <td>0.763882</td>\n",
       "      <td>0.638240</td>\n",
       "      <td>0.722351</td>\n",
       "      <td>0.726518</td>\n",
       "      <td>0.654861</td>\n",
       "      <td>0.741336</td>\n",
       "      <td>0.788740</td>\n",
       "      <td>0.759301</td>\n",
       "      <td>0.749146</td>\n",
       "      <td>0.720535</td>\n",
       "      <td>0.685118</td>\n",
       "      <td>0.175215</td>\n",
       "    </tr>\n",
       "    <tr>\n",
       "      <th>C2: Factionalized Elites</th>\n",
       "      <td>0.874747</td>\n",
       "      <td>0.763882</td>\n",
       "      <td>1.000000</td>\n",
       "      <td>0.701263</td>\n",
       "      <td>0.676032</td>\n",
       "      <td>0.674450</td>\n",
       "      <td>0.583273</td>\n",
       "      <td>0.867237</td>\n",
       "      <td>0.669605</td>\n",
       "      <td>0.797493</td>\n",
       "      <td>0.660440</td>\n",
       "      <td>0.695177</td>\n",
       "      <td>0.697836</td>\n",
       "      <td>0.030375</td>\n",
       "    </tr>\n",
       "    <tr>\n",
       "      <th>grievance</th>\n",
       "      <td>0.672733</td>\n",
       "      <td>0.638240</td>\n",
       "      <td>0.701263</td>\n",
       "      <td>1.000000</td>\n",
       "      <td>0.416864</td>\n",
       "      <td>0.438727</td>\n",
       "      <td>0.382782</td>\n",
       "      <td>0.605498</td>\n",
       "      <td>0.453755</td>\n",
       "      <td>0.608289</td>\n",
       "      <td>0.432959</td>\n",
       "      <td>0.656434</td>\n",
       "      <td>0.443671</td>\n",
       "      <td>0.092232</td>\n",
       "    </tr>\n",
       "    <tr>\n",
       "      <th>economy</th>\n",
       "      <td>0.858549</td>\n",
       "      <td>0.722351</td>\n",
       "      <td>0.676032</td>\n",
       "      <td>0.416864</td>\n",
       "      <td>1.000000</td>\n",
       "      <td>0.767501</td>\n",
       "      <td>0.759385</td>\n",
       "      <td>0.656312</td>\n",
       "      <td>0.836760</td>\n",
       "      <td>0.598253</td>\n",
       "      <td>0.781763</td>\n",
       "      <td>0.681460</td>\n",
       "      <td>0.804255</td>\n",
       "      <td>0.122451</td>\n",
       "    </tr>\n",
       "    <tr>\n",
       "      <th>E2: Economic Inequality</th>\n",
       "      <td>0.866416</td>\n",
       "      <td>0.726518</td>\n",
       "      <td>0.674450</td>\n",
       "      <td>0.438727</td>\n",
       "      <td>0.767501</td>\n",
       "      <td>1.000000</td>\n",
       "      <td>0.711998</td>\n",
       "      <td>0.685664</td>\n",
       "      <td>0.890326</td>\n",
       "      <td>0.671398</td>\n",
       "      <td>0.879751</td>\n",
       "      <td>0.616687</td>\n",
       "      <td>0.666823</td>\n",
       "      <td>0.172509</td>\n",
       "    </tr>\n",
       "    <tr>\n",
       "      <th>E3: Human Flight and Brain Drain</th>\n",
       "      <td>0.779708</td>\n",
       "      <td>0.654861</td>\n",
       "      <td>0.583273</td>\n",
       "      <td>0.382782</td>\n",
       "      <td>0.759385</td>\n",
       "      <td>0.711998</td>\n",
       "      <td>1.000000</td>\n",
       "      <td>0.529542</td>\n",
       "      <td>0.767005</td>\n",
       "      <td>0.513212</td>\n",
       "      <td>0.721149</td>\n",
       "      <td>0.555292</td>\n",
       "      <td>0.757911</td>\n",
       "      <td>0.016465</td>\n",
       "    </tr>\n",
       "    <tr>\n",
       "      <th>P1: State Legitimacy</th>\n",
       "      <td>0.856040</td>\n",
       "      <td>0.741336</td>\n",
       "      <td>0.867237</td>\n",
       "      <td>0.605498</td>\n",
       "      <td>0.656312</td>\n",
       "      <td>0.685664</td>\n",
       "      <td>0.529542</td>\n",
       "      <td>1.000000</td>\n",
       "      <td>0.671294</td>\n",
       "      <td>0.892416</td>\n",
       "      <td>0.653779</td>\n",
       "      <td>0.620620</td>\n",
       "      <td>0.634256</td>\n",
       "      <td>0.075583</td>\n",
       "    </tr>\n",
       "    <tr>\n",
       "      <th>P2: Public Services</th>\n",
       "      <td>0.904541</td>\n",
       "      <td>0.788740</td>\n",
       "      <td>0.669605</td>\n",
       "      <td>0.453755</td>\n",
       "      <td>0.836760</td>\n",
       "      <td>0.890326</td>\n",
       "      <td>0.767005</td>\n",
       "      <td>0.671294</td>\n",
       "      <td>1.000000</td>\n",
       "      <td>0.658843</td>\n",
       "      <td>0.932785</td>\n",
       "      <td>0.728401</td>\n",
       "      <td>0.719994</td>\n",
       "      <td>0.144908</td>\n",
       "    </tr>\n",
       "    <tr>\n",
       "      <th>P3: Human Rights</th>\n",
       "      <td>0.842300</td>\n",
       "      <td>0.759301</td>\n",
       "      <td>0.797493</td>\n",
       "      <td>0.608289</td>\n",
       "      <td>0.598253</td>\n",
       "      <td>0.671398</td>\n",
       "      <td>0.513212</td>\n",
       "      <td>0.892416</td>\n",
       "      <td>0.658843</td>\n",
       "      <td>1.000000</td>\n",
       "      <td>0.691350</td>\n",
       "      <td>0.620215</td>\n",
       "      <td>0.605788</td>\n",
       "      <td>0.065444</td>\n",
       "    </tr>\n",
       "    <tr>\n",
       "      <th>S1: Demographic Pressures</th>\n",
       "      <td>0.882506</td>\n",
       "      <td>0.749146</td>\n",
       "      <td>0.660440</td>\n",
       "      <td>0.432959</td>\n",
       "      <td>0.781763</td>\n",
       "      <td>0.879751</td>\n",
       "      <td>0.721149</td>\n",
       "      <td>0.653779</td>\n",
       "      <td>0.932785</td>\n",
       "      <td>0.691350</td>\n",
       "      <td>1.000000</td>\n",
       "      <td>0.692495</td>\n",
       "      <td>0.682386</td>\n",
       "      <td>0.124930</td>\n",
       "    </tr>\n",
       "    <tr>\n",
       "      <th>S2: Refugees and IDPs</th>\n",
       "      <td>0.819482</td>\n",
       "      <td>0.720535</td>\n",
       "      <td>0.695177</td>\n",
       "      <td>0.656434</td>\n",
       "      <td>0.681460</td>\n",
       "      <td>0.616687</td>\n",
       "      <td>0.555292</td>\n",
       "      <td>0.620620</td>\n",
       "      <td>0.728401</td>\n",
       "      <td>0.620215</td>\n",
       "      <td>0.692495</td>\n",
       "      <td>1.000000</td>\n",
       "      <td>0.672606</td>\n",
       "      <td>0.077670</td>\n",
       "    </tr>\n",
       "    <tr>\n",
       "      <th>X1: External Intervention</th>\n",
       "      <td>0.827935</td>\n",
       "      <td>0.685118</td>\n",
       "      <td>0.697836</td>\n",
       "      <td>0.443671</td>\n",
       "      <td>0.804255</td>\n",
       "      <td>0.666823</td>\n",
       "      <td>0.757911</td>\n",
       "      <td>0.634256</td>\n",
       "      <td>0.719994</td>\n",
       "      <td>0.605788</td>\n",
       "      <td>0.682386</td>\n",
       "      <td>0.672606</td>\n",
       "      <td>1.000000</td>\n",
       "      <td>0.038646</td>\n",
       "    </tr>\n",
       "    <tr>\n",
       "      <th>Change from Previous Year</th>\n",
       "      <td>0.112451</td>\n",
       "      <td>0.175215</td>\n",
       "      <td>0.030375</td>\n",
       "      <td>0.092232</td>\n",
       "      <td>0.122451</td>\n",
       "      <td>0.172509</td>\n",
       "      <td>0.016465</td>\n",
       "      <td>0.075583</td>\n",
       "      <td>0.144908</td>\n",
       "      <td>0.065444</td>\n",
       "      <td>0.124930</td>\n",
       "      <td>0.077670</td>\n",
       "      <td>0.038646</td>\n",
       "      <td>1.000000</td>\n",
       "    </tr>\n",
       "  </tbody>\n",
       "</table>\n",
       "</div>"
      ],
      "text/plain": [
       "                                     total  C1: Security Apparatus  \\\n",
       "total                             1.000000                0.887130   \n",
       "C1: Security Apparatus            0.887130                1.000000   \n",
       "C2: Factionalized Elites          0.874747                0.763882   \n",
       "grievance                         0.672733                0.638240   \n",
       "economy                           0.858549                0.722351   \n",
       "E2: Economic Inequality           0.866416                0.726518   \n",
       "E3: Human Flight and Brain Drain  0.779708                0.654861   \n",
       "P1: State Legitimacy              0.856040                0.741336   \n",
       "P2: Public Services               0.904541                0.788740   \n",
       "P3: Human Rights                  0.842300                0.759301   \n",
       "S1: Demographic Pressures         0.882506                0.749146   \n",
       "S2: Refugees and IDPs             0.819482                0.720535   \n",
       "X1: External Intervention         0.827935                0.685118   \n",
       "Change from Previous Year         0.112451                0.175215   \n",
       "\n",
       "                                  C2: Factionalized Elites  grievance  \\\n",
       "total                                             0.874747   0.672733   \n",
       "C1: Security Apparatus                            0.763882   0.638240   \n",
       "C2: Factionalized Elites                          1.000000   0.701263   \n",
       "grievance                                         0.701263   1.000000   \n",
       "economy                                           0.676032   0.416864   \n",
       "E2: Economic Inequality                           0.674450   0.438727   \n",
       "E3: Human Flight and Brain Drain                  0.583273   0.382782   \n",
       "P1: State Legitimacy                              0.867237   0.605498   \n",
       "P2: Public Services                               0.669605   0.453755   \n",
       "P3: Human Rights                                  0.797493   0.608289   \n",
       "S1: Demographic Pressures                         0.660440   0.432959   \n",
       "S2: Refugees and IDPs                             0.695177   0.656434   \n",
       "X1: External Intervention                         0.697836   0.443671   \n",
       "Change from Previous Year                         0.030375   0.092232   \n",
       "\n",
       "                                   economy  E2: Economic Inequality  \\\n",
       "total                             0.858549                 0.866416   \n",
       "C1: Security Apparatus            0.722351                 0.726518   \n",
       "C2: Factionalized Elites          0.676032                 0.674450   \n",
       "grievance                         0.416864                 0.438727   \n",
       "economy                           1.000000                 0.767501   \n",
       "E2: Economic Inequality           0.767501                 1.000000   \n",
       "E3: Human Flight and Brain Drain  0.759385                 0.711998   \n",
       "P1: State Legitimacy              0.656312                 0.685664   \n",
       "P2: Public Services               0.836760                 0.890326   \n",
       "P3: Human Rights                  0.598253                 0.671398   \n",
       "S1: Demographic Pressures         0.781763                 0.879751   \n",
       "S2: Refugees and IDPs             0.681460                 0.616687   \n",
       "X1: External Intervention         0.804255                 0.666823   \n",
       "Change from Previous Year         0.122451                 0.172509   \n",
       "\n",
       "                                  E3: Human Flight and Brain Drain  \\\n",
       "total                                                     0.779708   \n",
       "C1: Security Apparatus                                    0.654861   \n",
       "C2: Factionalized Elites                                  0.583273   \n",
       "grievance                                                 0.382782   \n",
       "economy                                                   0.759385   \n",
       "E2: Economic Inequality                                   0.711998   \n",
       "E3: Human Flight and Brain Drain                          1.000000   \n",
       "P1: State Legitimacy                                      0.529542   \n",
       "P2: Public Services                                       0.767005   \n",
       "P3: Human Rights                                          0.513212   \n",
       "S1: Demographic Pressures                                 0.721149   \n",
       "S2: Refugees and IDPs                                     0.555292   \n",
       "X1: External Intervention                                 0.757911   \n",
       "Change from Previous Year                                 0.016465   \n",
       "\n",
       "                                  P1: State Legitimacy  P2: Public Services  \\\n",
       "total                                         0.856040             0.904541   \n",
       "C1: Security Apparatus                        0.741336             0.788740   \n",
       "C2: Factionalized Elites                      0.867237             0.669605   \n",
       "grievance                                     0.605498             0.453755   \n",
       "economy                                       0.656312             0.836760   \n",
       "E2: Economic Inequality                       0.685664             0.890326   \n",
       "E3: Human Flight and Brain Drain              0.529542             0.767005   \n",
       "P1: State Legitimacy                          1.000000             0.671294   \n",
       "P2: Public Services                           0.671294             1.000000   \n",
       "P3: Human Rights                              0.892416             0.658843   \n",
       "S1: Demographic Pressures                     0.653779             0.932785   \n",
       "S2: Refugees and IDPs                         0.620620             0.728401   \n",
       "X1: External Intervention                     0.634256             0.719994   \n",
       "Change from Previous Year                     0.075583             0.144908   \n",
       "\n",
       "                                  P3: Human Rights  S1: Demographic Pressures  \\\n",
       "total                                     0.842300                   0.882506   \n",
       "C1: Security Apparatus                    0.759301                   0.749146   \n",
       "C2: Factionalized Elites                  0.797493                   0.660440   \n",
       "grievance                                 0.608289                   0.432959   \n",
       "economy                                   0.598253                   0.781763   \n",
       "E2: Economic Inequality                   0.671398                   0.879751   \n",
       "E3: Human Flight and Brain Drain          0.513212                   0.721149   \n",
       "P1: State Legitimacy                      0.892416                   0.653779   \n",
       "P2: Public Services                       0.658843                   0.932785   \n",
       "P3: Human Rights                          1.000000                   0.691350   \n",
       "S1: Demographic Pressures                 0.691350                   1.000000   \n",
       "S2: Refugees and IDPs                     0.620215                   0.692495   \n",
       "X1: External Intervention                 0.605788                   0.682386   \n",
       "Change from Previous Year                 0.065444                   0.124930   \n",
       "\n",
       "                                  S2: Refugees and IDPs  \\\n",
       "total                                          0.819482   \n",
       "C1: Security Apparatus                         0.720535   \n",
       "C2: Factionalized Elites                       0.695177   \n",
       "grievance                                      0.656434   \n",
       "economy                                        0.681460   \n",
       "E2: Economic Inequality                        0.616687   \n",
       "E3: Human Flight and Brain Drain               0.555292   \n",
       "P1: State Legitimacy                           0.620620   \n",
       "P2: Public Services                            0.728401   \n",
       "P3: Human Rights                               0.620215   \n",
       "S1: Demographic Pressures                      0.692495   \n",
       "S2: Refugees and IDPs                          1.000000   \n",
       "X1: External Intervention                      0.672606   \n",
       "Change from Previous Year                      0.077670   \n",
       "\n",
       "                                  X1: External Intervention  \\\n",
       "total                                              0.827935   \n",
       "C1: Security Apparatus                             0.685118   \n",
       "C2: Factionalized Elites                           0.697836   \n",
       "grievance                                          0.443671   \n",
       "economy                                            0.804255   \n",
       "E2: Economic Inequality                            0.666823   \n",
       "E3: Human Flight and Brain Drain                   0.757911   \n",
       "P1: State Legitimacy                               0.634256   \n",
       "P2: Public Services                                0.719994   \n",
       "P3: Human Rights                                   0.605788   \n",
       "S1: Demographic Pressures                          0.682386   \n",
       "S2: Refugees and IDPs                              0.672606   \n",
       "X1: External Intervention                          1.000000   \n",
       "Change from Previous Year                          0.038646   \n",
       "\n",
       "                                  Change from Previous Year  \n",
       "total                                              0.112451  \n",
       "C1: Security Apparatus                             0.175215  \n",
       "C2: Factionalized Elites                           0.030375  \n",
       "grievance                                          0.092232  \n",
       "economy                                            0.122451  \n",
       "E2: Economic Inequality                            0.172509  \n",
       "E3: Human Flight and Brain Drain                   0.016465  \n",
       "P1: State Legitimacy                               0.075583  \n",
       "P2: Public Services                                0.144908  \n",
       "P3: Human Rights                                   0.065444  \n",
       "S1: Demographic Pressures                          0.124930  \n",
       "S2: Refugees and IDPs                              0.077670  \n",
       "X1: External Intervention                          0.038646  \n",
       "Change from Previous Year                          1.000000  "
      ]
     },
     "execution_count": 48,
     "metadata": {},
     "output_type": "execute_result"
    }
   ],
   "source": [
    "data.corr()"
   ]
  },
  {
   "cell_type": "code",
   "execution_count": 49,
   "metadata": {},
   "outputs": [
    {
     "data": {
      "text/plain": [
       "<matplotlib.collections.PathCollection at 0x1f066e7a3a0>"
      ]
     },
     "execution_count": 49,
     "metadata": {},
     "output_type": "execute_result"
    },
    {
     "data": {
      "image/png": "[encoded data removed]",
      "text/plain": [
       "<Figure size 432x288 with 1 Axes>"
      ]
     },
     "metadata": {
      "needs_background": "light"
     },
     "output_type": "display_data"
    }
   ],
   "source": [
    "plt.scatter(data.total, data.economy)"
   ]
  },
  {
   "cell_type": "code",
   "execution_count": 50,
   "metadata": {},
   "outputs": [
    {
     "data": {
      "text/html": [
       "<table class=\"simpletable\">\n",
       "<caption>OLS Regression Results</caption>\n",
       "<tr>\n",
       "  <th>Dep. Variable:</th>          <td>total</td>      <th>  R-squared:         </th> <td>   0.737</td>\n",
       "</tr>\n",
       "<tr>\n",
       "  <th>Model:</th>                   <td>OLS</td>       <th>  Adj. R-squared:    </th> <td>   0.736</td>\n",
       "</tr>\n",
       "<tr>\n",
       "  <th>Method:</th>             <td>Least Squares</td>  <th>  F-statistic:       </th> <td>   493.5</td>\n",
       "</tr>\n",
       "<tr>\n",
       "  <th>Date:</th>             <td>Thu, 03 Dec 2020</td> <th>  Prob (F-statistic):</th> <td>6.09e-53</td>\n",
       "</tr>\n",
       "<tr>\n",
       "  <th>Time:</th>                 <td>22:41:16</td>     <th>  Log-Likelihood:    </th> <td> -700.39</td>\n",
       "</tr>\n",
       "<tr>\n",
       "  <th>No. Observations:</th>      <td>   178</td>      <th>  AIC:               </th> <td>   1405.</td>\n",
       "</tr>\n",
       "<tr>\n",
       "  <th>Df Residuals:</th>          <td>   176</td>      <th>  BIC:               </th> <td>   1411.</td>\n",
       "</tr>\n",
       "<tr>\n",
       "  <th>Df Model:</th>              <td>     1</td>      <th>                     </th>     <td> </td>   \n",
       "</tr>\n",
       "<tr>\n",
       "  <th>Covariance Type:</th>      <td>nonrobust</td>    <th>                     </th>     <td> </td>   \n",
       "</tr>\n",
       "</table>\n",
       "<table class=\"simpletable\">\n",
       "<tr>\n",
       "      <td></td>         <th>coef</th>     <th>std err</th>      <th>t</th>      <th>P>|t|</th>  <th>[0.025</th>    <th>0.975]</th>  \n",
       "</tr>\n",
       "<tr>\n",
       "  <th>Intercept</th> <td>   10.8796</td> <td>    2.648</td> <td>    4.108</td> <td> 0.000</td> <td>    5.654</td> <td>   16.106</td>\n",
       "</tr>\n",
       "<tr>\n",
       "  <th>economy</th>   <td>   10.2765</td> <td>    0.463</td> <td>   22.214</td> <td> 0.000</td> <td>    9.364</td> <td>   11.189</td>\n",
       "</tr>\n",
       "</table>\n",
       "<table class=\"simpletable\">\n",
       "<tr>\n",
       "  <th>Omnibus:</th>       <td> 4.777</td> <th>  Durbin-Watson:     </th> <td>   1.543</td>\n",
       "</tr>\n",
       "<tr>\n",
       "  <th>Prob(Omnibus):</th> <td> 0.092</td> <th>  Jarque-Bera (JB):  </th> <td>   2.791</td>\n",
       "</tr>\n",
       "<tr>\n",
       "  <th>Skew:</th>          <td> 0.046</td> <th>  Prob(JB):          </th> <td>   0.248</td>\n",
       "</tr>\n",
       "<tr>\n",
       "  <th>Kurtosis:</th>      <td> 2.394</td> <th>  Cond. No.          </th> <td>    16.7</td>\n",
       "</tr>\n",
       "</table><br/><br/>Warnings:<br/>[1] Standard Errors assume that the covariance matrix of the errors is correctly specified."
      ],
      "text/plain": [
       "<class 'statsmodels.iolib.summary.Summary'>\n",
       "\"\"\"\n",
       "                            OLS Regression Results                            \n",
       "==============================================================================\n",
       "Dep. Variable:                  total   R-squared:                       0.737\n",
       "Model:                            OLS   Adj. R-squared:                  0.736\n",
       "Method:                 Least Squares   F-statistic:                     493.5\n",
       "Date:                Thu, 03 Dec 2020   Prob (F-statistic):           6.09e-53\n",
       "Time:                        22:41:16   Log-Likelihood:                -700.39\n",
       "No. Observations:                 178   AIC:                             1405.\n",
       "Df Residuals:                     176   BIC:                             1411.\n",
       "Df Model:                           1                                         \n",
       "Covariance Type:            nonrobust                                         \n",
       "==============================================================================\n",
       "                 coef    std err          t      P>|t|      [0.025      0.975]\n",
       "------------------------------------------------------------------------------\n",
       "Intercept     10.8796      2.648      4.108      0.000       5.654      16.106\n",
       "economy       10.2765      0.463     22.214      0.000       9.364      11.189\n",
       "==============================================================================\n",
       "Omnibus:                        4.777   Durbin-Watson:                   1.543\n",
       "Prob(Omnibus):                  0.092   Jarque-Bera (JB):                2.791\n",
       "Skew:                           0.046   Prob(JB):                        0.248\n",
       "Kurtosis:                       2.394   Cond. No.                         16.7\n",
       "==============================================================================\n",
       "\n",
       "Warnings:\n",
       "[1] Standard Errors assume that the covariance matrix of the errors is correctly specified.\n",
       "\"\"\""
      ]
     },
     "execution_count": 50,
     "metadata": {},
     "output_type": "execute_result"
    }
   ],
   "source": [
    "results = smf.ols('total ~ economy', data=data).fit()\n",
    "results.summary()"
   ]
  },
  {
   "cell_type": "markdown",
   "metadata": {},
   "source": [
    " \n",
    "### (g) Write out the complete and correct interpretation of the intercept, including what the relevant variable(s) stand for, not just the variable names.\n"
   ]
  },
  {
   "cell_type": "markdown",
   "metadata": {},
   "source": [
    "The Intercept term in regression analysis is the value at which the regression line crosses the y-axis. The coef of intercept means that at this value of y, the line will cross the y-axis. Here coef is 10.87 means the reg. line will cross y axis in first quadrant as the value is positive. Its values doesn't effect any independent variable. "
   ]
  },
  {
   "cell_type": "markdown",
   "metadata": {},
   "source": [
    "### (h) Write out the complete and correct interpretation of the coefficient on economy, including what the relevant variable(s) stand for, not just the variable names.\n"
   ]
  },
  {
   "cell_type": "markdown",
   "metadata": {},
   "source": [
    "The coef of economy is 10.27, it means that with unit increase in economy, there will be 10.27 times change in our dependent variable which is total, also represnts the slope of the line. "
   ]
  },
  {
   "cell_type": "markdown",
   "metadata": {},
   "source": [
    "### (i) Write out the complete and correct interpretation of the p-value for economy, including what the relevant variable(s) stand for, not just the variable names."
   ]
  },
  {
   "cell_type": "markdown",
   "metadata": {},
   "source": [
    "The p-value for each independent variable tests the null hypothesis that the variable has no correlation with the dependent variable. Here the p value of economy is 0.00 which is less than 0.05 (considering 5 % confidence interval).\n",
    "If the p-value for a variable is less than your significance level, your sample data provide enough evidence to reject the null hypothesis. Hence we can conclude that our independent var economy has cannot be discarded from model building. "
   ]
  },
  {
   "cell_type": "markdown",
   "metadata": {},
   "source": [
    "### (j) Write out the complete and correct interpretation of the confidence interval for economy, in cluding what the relevant variable(s) stand for, not just the variable names.\n",
    "\n"
   ]
  },
  {
   "cell_type": "markdown",
   "metadata": {},
   "source": [
    "For 95 % confidence interval we have 0.05 and for 2 tailed test - 0.25 on either side of the curve and hence we see [0.025\t0.975] in the summary. \n",
    "Value of economy interval : [9.364\t11.189]. It simply means the area covered under the curve between the two tails - lower tail and upper tail. - TBD "
   ]
  },
  {
   "cell_type": "markdown",
   "metadata": {},
   "source": [
    "### (k) Write out the complete and correct interpretation of R-squared, including what the relevant variable(s) stand for, not just the variable names."
   ]
  },
  {
   "cell_type": "markdown",
   "metadata": {},
   "source": [
    "Using one variable - economy, we get R squared value of 0.737, which is okay. R-squared is a statistical measure of how close the data are to the fitted regression line. R-squared = Explained variation / Total variation\n",
    "\n",
    "R-squared is always between 0 and 100%:\n",
    "\n",
    "0% indicates that the model explains none of the variability of the response data around its mean.\n",
    "100% indicates that the model explains all the variability of the response data around its mean.\n",
    "\n",
    "So, 73 % is above average but it can be imporved by increasing the number of features in the model. "
   ]
  },
  {
   "cell_type": "markdown",
   "metadata": {},
   "source": [
    "# Question 2 \n",
    "\n",
    "#### (a) We will now conduct a multiple regression using OLS. We are going to add the variable grievance as a second independent variable. State the null and alternative hypotheses for this new variable for a two-tailed test."
   ]
  },
  {
   "cell_type": "markdown",
   "metadata": {},
   "source": [
    "- Null Hypothesis : The current model is a best fit model and adding Varible grievance doesn't add any significance in the model as there is no statical significance or association in independent variable grievance and target varible - total. \n",
    "- Alternate Hypothesis : The current model is *NOT* a best fit model and adding Varible grievance will add  significance in the model as there should be some statical significance or association in independent variable grievance and target varible - total. "
   ]
  },
  {
   "cell_type": "markdown",
   "metadata": {},
   "source": [
    "#### (b) Conduct a multiple OLS regression with the model from Question 2(a) using the statistical approach and present a table of the results."
   ]
  },
  {
   "cell_type": "code",
   "execution_count": 51,
   "metadata": {},
   "outputs": [
    {
     "data": {
      "text/html": [
       "<table class=\"simpletable\">\n",
       "<caption>OLS Regression Results</caption>\n",
       "<tr>\n",
       "  <th>Dep. Variable:</th>          <td>total</td>      <th>  R-squared:         </th> <td>   0.857</td>\n",
       "</tr>\n",
       "<tr>\n",
       "  <th>Model:</th>                   <td>OLS</td>       <th>  Adj. R-squared:    </th> <td>   0.855</td>\n",
       "</tr>\n",
       "<tr>\n",
       "  <th>Method:</th>             <td>Least Squares</td>  <th>  F-statistic:       </th> <td>   524.7</td>\n",
       "</tr>\n",
       "<tr>\n",
       "  <th>Date:</th>             <td>Thu, 03 Dec 2020</td> <th>  Prob (F-statistic):</th> <td>1.18e-74</td>\n",
       "</tr>\n",
       "<tr>\n",
       "  <th>Time:</th>                 <td>22:41:28</td>     <th>  Log-Likelihood:    </th> <td> -646.15</td>\n",
       "</tr>\n",
       "<tr>\n",
       "  <th>No. Observations:</th>      <td>   178</td>      <th>  AIC:               </th> <td>   1298.</td>\n",
       "</tr>\n",
       "<tr>\n",
       "  <th>Df Residuals:</th>          <td>   175</td>      <th>  BIC:               </th> <td>   1308.</td>\n",
       "</tr>\n",
       "<tr>\n",
       "  <th>Df Model:</th>              <td>     2</td>      <th>                     </th>     <td> </td>   \n",
       "</tr>\n",
       "<tr>\n",
       "  <th>Covariance Type:</th>      <td>nonrobust</td>    <th>                     </th>     <td> </td>   \n",
       "</tr>\n",
       "</table>\n",
       "<table class=\"simpletable\">\n",
       "<tr>\n",
       "      <td></td>         <th>coef</th>     <th>std err</th>      <th>t</th>      <th>P>|t|</th>  <th>[0.025</th>    <th>0.975]</th>  \n",
       "</tr>\n",
       "<tr>\n",
       "  <th>const</th>     <td>   -2.2370</td> <td>    2.237</td> <td>   -1.000</td> <td> 0.319</td> <td>   -6.653</td> <td>    2.178</td>\n",
       "</tr>\n",
       "<tr>\n",
       "  <th>economy</th>   <td>    8.3752</td> <td>    0.376</td> <td>   22.255</td> <td> 0.000</td> <td>    7.632</td> <td>    9.118</td>\n",
       "</tr>\n",
       "<tr>\n",
       "  <th>grievance</th> <td>    3.9981</td> <td>    0.330</td> <td>   12.120</td> <td> 0.000</td> <td>    3.347</td> <td>    4.649</td>\n",
       "</tr>\n",
       "</table>\n",
       "<table class=\"simpletable\">\n",
       "<tr>\n",
       "  <th>Omnibus:</th>       <td> 3.965</td> <th>  Durbin-Watson:     </th> <td>   1.613</td>\n",
       "</tr>\n",
       "<tr>\n",
       "  <th>Prob(Omnibus):</th> <td> 0.138</td> <th>  Jarque-Bera (JB):  </th> <td>   3.269</td>\n",
       "</tr>\n",
       "<tr>\n",
       "  <th>Skew:</th>          <td>-0.227</td> <th>  Prob(JB):          </th> <td>   0.195</td>\n",
       "</tr>\n",
       "<tr>\n",
       "  <th>Kurtosis:</th>      <td> 2.515</td> <th>  Cond. No.          </th> <td>    27.4</td>\n",
       "</tr>\n",
       "</table><br/><br/>Warnings:<br/>[1] Standard Errors assume that the covariance matrix of the errors is correctly specified."
      ],
      "text/plain": [
       "<class 'statsmodels.iolib.summary.Summary'>\n",
       "\"\"\"\n",
       "                            OLS Regression Results                            \n",
       "==============================================================================\n",
       "Dep. Variable:                  total   R-squared:                       0.857\n",
       "Model:                            OLS   Adj. R-squared:                  0.855\n",
       "Method:                 Least Squares   F-statistic:                     524.7\n",
       "Date:                Thu, 03 Dec 2020   Prob (F-statistic):           1.18e-74\n",
       "Time:                        22:41:28   Log-Likelihood:                -646.15\n",
       "No. Observations:                 178   AIC:                             1298.\n",
       "Df Residuals:                     175   BIC:                             1308.\n",
       "Df Model:                           2                                         \n",
       "Covariance Type:            nonrobust                                         \n",
       "==============================================================================\n",
       "                 coef    std err          t      P>|t|      [0.025      0.975]\n",
       "------------------------------------------------------------------------------\n",
       "const         -2.2370      2.237     -1.000      0.319      -6.653       2.178\n",
       "economy        8.3752      0.376     22.255      0.000       7.632       9.118\n",
       "grievance      3.9981      0.330     12.120      0.000       3.347       4.649\n",
       "==============================================================================\n",
       "Omnibus:                        3.965   Durbin-Watson:                   1.613\n",
       "Prob(Omnibus):                  0.138   Jarque-Bera (JB):                3.269\n",
       "Skew:                          -0.227   Prob(JB):                        0.195\n",
       "Kurtosis:                       2.515   Cond. No.                         27.4\n",
       "==============================================================================\n",
       "\n",
       "Warnings:\n",
       "[1] Standard Errors assume that the covariance matrix of the errors is correctly specified.\n",
       "\"\"\""
      ]
     },
     "execution_count": 51,
     "metadata": {},
     "output_type": "execute_result"
    }
   ],
   "source": [
    "X = data[['economy','grievance']]\n",
    "y = data[['total']]\n",
    "X = sm.add_constant(X)\n",
    "\n",
    "\n",
    "results = sm.OLS(y, X).fit()\n",
    "results.summary()"
   ]
  },
  {
   "cell_type": "markdown",
   "metadata": {},
   "source": [
    "#### (c) Write out the complete and correct interpretation of the coefficient on grievance, including what the relevant variable(s) stand for, not just the variable names.\n"
   ]
  },
  {
   "cell_type": "markdown",
   "metadata": {},
   "source": [
    "The coef of grievance is 3.9981, it means that with unit increase in grievance, there will be 3.9981 times change in our dependent variable total. "
   ]
  },
  {
   "cell_type": "markdown",
   "metadata": {},
   "source": [
    "#### (d) Is this model an improvement over the simple linear regression from Question 1? How did you come to this conclusion?"
   ]
  },
  {
   "cell_type": "markdown",
   "metadata": {},
   "source": [
    "Yes, there is a significant improvement in our model, 12 % to be exact. We can conclude this by looking at the R squared values, in our last model R squared was 73 and after adding new variable it goes up to 85. And hence we can conclude that there is an improvement in model by adding this new varible."
   ]
  },
  {
   "cell_type": "markdown",
   "metadata": {},
   "source": [
    "#### (e) Can we reject or fail to reject the null hypothesis for new variable? How do you know? Be as thorough as possible in your reasoning."
   ]
  },
  {
   "cell_type": "markdown",
   "metadata": {},
   "source": [
    "We fail to reject the null hypothesis as the p value (0.00) is less than the significance level (0.05). And hence we can say that this variable (grievance) is statistically significant and probably a worthwhile addition to your regression model"
   ]
  },
  {
   "cell_type": "markdown",
   "metadata": {},
   "source": [
    "# Question 3\n",
    "\n",
    "### (a) We're going to conduct a multiple linear regression through machine learning, using the exact same multiple regression model from Question 2. First, set up your X and y arrays using the variable names in your setup syntax."
   ]
  },
  {
   "cell_type": "code",
   "execution_count": 52,
   "metadata": {},
   "outputs": [],
   "source": [
    "X = data[['economy','grievance']]\n",
    "y = data[['total']]\n",
    "X = sm.add_constant(X)"
   ]
  },
  {
   "cell_type": "markdown",
   "metadata": {},
   "source": [
    "###  (b) Divide your X and y into training and test sets. Make the test set 25% of your data, and set the random_state to 4.\n"
   ]
  },
  {
   "cell_type": "code",
   "execution_count": 53,
   "metadata": {},
   "outputs": [
    {
     "name": "stdout",
     "output_type": "stream",
     "text": [
      "(133, 3) (45, 3)\n",
      "(133, 1) (45, 1)\n"
     ]
    }
   ],
   "source": [
    "X_train, X_test, y_train, y_test= train_test_split(X, y,train_size=0.75, random_state=4)\n",
    "print(X_train.shape, X_test.shape)\n",
    "print(y_train.shape, y_test.shape)"
   ]
  },
  {
   "cell_type": "markdown",
   "metadata": {},
   "source": [
    "### (c) Train the algorithm,"
   ]
  },
  {
   "cell_type": "code",
   "execution_count": 54,
   "metadata": {},
   "outputs": [
    {
     "data": {
      "text/html": [
       "<table class=\"simpletable\">\n",
       "<caption>OLS Regression Results</caption>\n",
       "<tr>\n",
       "  <th>Dep. Variable:</th>          <td>total</td>      <th>  R-squared:         </th> <td>   0.838</td>\n",
       "</tr>\n",
       "<tr>\n",
       "  <th>Model:</th>                   <td>OLS</td>       <th>  Adj. R-squared:    </th> <td>   0.836</td>\n",
       "</tr>\n",
       "<tr>\n",
       "  <th>Method:</th>             <td>Least Squares</td>  <th>  F-statistic:       </th> <td>   336.2</td>\n",
       "</tr>\n",
       "<tr>\n",
       "  <th>Date:</th>             <td>Thu, 03 Dec 2020</td> <th>  Prob (F-statistic):</th> <td>4.15e-52</td>\n",
       "</tr>\n",
       "<tr>\n",
       "  <th>Time:</th>                 <td>22:41:32</td>     <th>  Log-Likelihood:    </th> <td> -485.65</td>\n",
       "</tr>\n",
       "<tr>\n",
       "  <th>No. Observations:</th>      <td>   133</td>      <th>  AIC:               </th> <td>   977.3</td>\n",
       "</tr>\n",
       "<tr>\n",
       "  <th>Df Residuals:</th>          <td>   130</td>      <th>  BIC:               </th> <td>   986.0</td>\n",
       "</tr>\n",
       "<tr>\n",
       "  <th>Df Model:</th>              <td>     2</td>      <th>                     </th>     <td> </td>   \n",
       "</tr>\n",
       "<tr>\n",
       "  <th>Covariance Type:</th>      <td>nonrobust</td>    <th>                     </th>     <td> </td>   \n",
       "</tr>\n",
       "</table>\n",
       "<table class=\"simpletable\">\n",
       "<tr>\n",
       "      <td></td>         <th>coef</th>     <th>std err</th>      <th>t</th>      <th>P>|t|</th>  <th>[0.025</th>    <th>0.975]</th>  \n",
       "</tr>\n",
       "<tr>\n",
       "  <th>const</th>     <td>   -1.9019</td> <td>    2.756</td> <td>   -0.690</td> <td> 0.491</td> <td>   -7.353</td> <td>    3.550</td>\n",
       "</tr>\n",
       "<tr>\n",
       "  <th>economy</th>   <td>    8.2347</td> <td>    0.477</td> <td>   17.278</td> <td> 0.000</td> <td>    7.292</td> <td>    9.178</td>\n",
       "</tr>\n",
       "<tr>\n",
       "  <th>grievance</th> <td>    4.0243</td> <td>    0.388</td> <td>   10.368</td> <td> 0.000</td> <td>    3.256</td> <td>    4.792</td>\n",
       "</tr>\n",
       "</table>\n",
       "<table class=\"simpletable\">\n",
       "<tr>\n",
       "  <th>Omnibus:</th>       <td> 9.181</td> <th>  Durbin-Watson:     </th> <td>   2.238</td>\n",
       "</tr>\n",
       "<tr>\n",
       "  <th>Prob(Omnibus):</th> <td> 0.010</td> <th>  Jarque-Bera (JB):  </th> <td>   4.829</td>\n",
       "</tr>\n",
       "<tr>\n",
       "  <th>Skew:</th>          <td>-0.258</td> <th>  Prob(JB):          </th> <td>  0.0894</td>\n",
       "</tr>\n",
       "<tr>\n",
       "  <th>Kurtosis:</th>      <td> 2.222</td> <th>  Cond. No.          </th> <td>    28.6</td>\n",
       "</tr>\n",
       "</table><br/><br/>Warnings:<br/>[1] Standard Errors assume that the covariance matrix of the errors is correctly specified."
      ],
      "text/plain": [
       "<class 'statsmodels.iolib.summary.Summary'>\n",
       "\"\"\"\n",
       "                            OLS Regression Results                            \n",
       "==============================================================================\n",
       "Dep. Variable:                  total   R-squared:                       0.838\n",
       "Model:                            OLS   Adj. R-squared:                  0.836\n",
       "Method:                 Least Squares   F-statistic:                     336.2\n",
       "Date:                Thu, 03 Dec 2020   Prob (F-statistic):           4.15e-52\n",
       "Time:                        22:41:32   Log-Likelihood:                -485.65\n",
       "No. Observations:                 133   AIC:                             977.3\n",
       "Df Residuals:                     130   BIC:                             986.0\n",
       "Df Model:                           2                                         \n",
       "Covariance Type:            nonrobust                                         \n",
       "==============================================================================\n",
       "                 coef    std err          t      P>|t|      [0.025      0.975]\n",
       "------------------------------------------------------------------------------\n",
       "const         -1.9019      2.756     -0.690      0.491      -7.353       3.550\n",
       "economy        8.2347      0.477     17.278      0.000       7.292       9.178\n",
       "grievance      4.0243      0.388     10.368      0.000       3.256       4.792\n",
       "==============================================================================\n",
       "Omnibus:                        9.181   Durbin-Watson:                   2.238\n",
       "Prob(Omnibus):                  0.010   Jarque-Bera (JB):                4.829\n",
       "Skew:                          -0.258   Prob(JB):                       0.0894\n",
       "Kurtosis:                       2.222   Cond. No.                         28.6\n",
       "==============================================================================\n",
       "\n",
       "Warnings:\n",
       "[1] Standard Errors assume that the covariance matrix of the errors is correctly specified.\n",
       "\"\"\""
      ]
     },
     "execution_count": 54,
     "metadata": {},
     "output_type": "execute_result"
    }
   ],
   "source": [
    "results = sm.OLS(y_train, X_train).fit()\n",
    "results.summary()"
   ]
  },
  {
   "cell_type": "markdown",
   "metadata": {},
   "source": [
    "### (d) Print the intercept and coefficients and interpret them accordingly, including what the relevant variable(s) stand for, not just the variable names."
   ]
  },
  {
   "cell_type": "markdown",
   "metadata": {},
   "source": [
    "          coef\t\n",
    "const\t    : -1.9019\t\n",
    "\n",
    "economy\t    : 8.2347\t\n",
    "\n",
    "grievance\t: 4.0243\t\n",
    "\n",
    "\n",
    "- The coef of constant which is intercept is -1.90, meaning that the regression line will cross y axis at -1.90 value of y.\n",
    "- The coef of economy is 8.23, it means that with unit increase in economy, there will be 8.23 times change in our dependent variable total.\n",
    "\n",
    "- The coef of grievance is 4.02, it means that with unit increase in grievance, there will be 4.02  times change in our dependent variable total. "
   ]
  },
  {
   "cell_type": "markdown",
   "metadata": {},
   "source": [
    "### (e) Generate a table of the first 10 values of your actual vs. predicted values. How does it look like you did based on this?"
   ]
  },
  {
   "cell_type": "code",
   "execution_count": 55,
   "metadata": {},
   "outputs": [
    {
     "name": "stdout",
     "output_type": "stream",
     "text": [
      "     Actual values  Predicted values  Difference\n",
      "163      24.108703         25.705320   -1.596616\n",
      "142      42.353130         56.960097  -14.606967\n",
      "14       97.167611        103.375893   -6.208282\n",
      "45       83.000000         86.388847   -3.388847\n",
      "81       70.813580         55.857434   14.956146\n",
      "157      32.332289         36.545111   -4.212822\n",
      "26       91.693713         87.796516    3.897197\n",
      "74       72.994114         70.639015    2.355099\n",
      "1       110.888959        107.643217    3.245742\n",
      "76       72.544798         63.092632    9.452166\n"
     ]
    },
    {
     "data": {
      "text/plain": [
       "Text(0, 0.5, 'y_test_pred')"
      ]
     },
     "execution_count": 55,
     "metadata": {},
     "output_type": "execute_result"
    },
    {
     "data": {
      "image/png": "[encoded data removed]",
      "text/plain": [
       "<Figure size 432x288 with 1 Axes>"
      ]
     },
     "metadata": {
      "needs_background": "light"
     },
     "output_type": "display_data"
    }
   ],
   "source": [
    "y_pred = results.predict(X_test)\n",
    "diff = y_test.total - y_pred\n",
    "d = {'Actual values': y_test.total.head(10), 'Predicted values': y_pred.head(10), 'Difference': diff.head(10)}\n",
    "print(pd.DataFrame(data=d))\n",
    "\n",
    "plt.figure()\n",
    "sns.scatterplot(y_test.total, y_pred)\n",
    "plt.suptitle(\"Actual vs Predicted\")\n",
    "plt.xlabel(\"y_test\")\n",
    "plt.ylabel(\"y_test_pred\")"
   ]
  },
  {
   "cell_type": "markdown",
   "metadata": {},
   "source": [
    "- As we can see from the above printed Dataframe - actual value, predicted value and their difference based on the test dataset, there is some small and some notable difference in the table and can be imporved.\n",
    "\n",
    "- From the scatter plot between the actual and predicted values, we can see that there is almost linear line depicting the good relation between actual and predicted. A straight line cutting axis at (0,0) would be the ideal line represting zero errors. "
   ]
  },
  {
   "cell_type": "markdown",
   "metadata": {},
   "source": [
    "### (f) Generate the R-squared and interpret it."
   ]
  },
  {
   "cell_type": "code",
   "execution_count": 56,
   "metadata": {},
   "outputs": [
    {
     "name": "stdout",
     "output_type": "stream",
     "text": [
      "R - squared : 0.8379997429109337\n"
     ]
    }
   ],
   "source": [
    "print(\"R - squared :\", results.rsquared)"
   ]
  },
  {
   "cell_type": "markdown",
   "metadata": {},
   "source": [
    "R-squared evaluates the scatter of the data points around the fitted regression line. It is also called the coefficient of determination, or the coefficient of multiple determination for multiple regression. For the same data set, higher R-squared values represent smaller differences between the observed data and the fitted values.\n",
    "\n",
    "In our case it is around 0.83 which means that it explains around 83 % variance in data which is good. "
   ]
  },
  {
   "cell_type": "markdown",
   "metadata": {},
   "source": [
    "### (g) Remember that when we have more than one independent variable, we use the adjusted R squared instead. Write code that will generate the adjusted R-squared (may require some research!) and interpret it.\n"
   ]
  },
  {
   "cell_type": "code",
   "execution_count": 57,
   "metadata": {},
   "outputs": [
    {
     "name": "stdout",
     "output_type": "stream",
     "text": [
      "R - squared : 0.8355074312634097\n"
     ]
    }
   ],
   "source": [
    "print(\"R - squared :\", results.rsquared_adj)"
   ]
  },
  {
   "cell_type": "markdown",
   "metadata": {},
   "source": [
    "Adj R square measures the proportion of variation explained by only those independent variables that really help in explaining the dependent variable. It penalizes you for adding independent variable that do not help in predicting the dependent variable.\n",
    "\n",
    "In our case adj square is 0.83 which is good value, important to note that adj r square increased from 0.73 to 0.83 even after adding one variable which means that "
   ]
  },
  {
   "cell_type": "markdown",
   "metadata": {},
   "source": [
    "### (h) Compare your overall ML output with your statistical approach to multiple OLS in Question 2. How do the results compare?\n"
   ]
  },
  {
   "cell_type": "markdown",
   "metadata": {},
   "source": [
    "- In Question 2, 100 % of the available data is used for training and we got R squared of 85 %\n",
    "- After splitting data into train and test we got R squared of 83 %  (decreased by 2 % )   \n",
    "\n",
    "This decrease is due to the reduction of training dataset from 100 % to 75 % but its good to take some data out for testing as in earlier approch we don't have any held out data set to test our model and this may lead to the problem of overfitting of the model which means very good performance on train data but low on real world unseen data. "
   ]
  },
  {
   "cell_type": "markdown",
   "metadata": {},
   "source": [
    "### (i) Go back and re-run this ML regression analysis, but this time with the test set as 90% of your data (keep the random_state the same). How does this influence your results, and why?\n",
    "\n",
    "Note: You don't need to re-type all your code, just run the analysis, but make sure to change your code back to your original answer for Question 3(b) before turning it in!"
   ]
  },
  {
   "attachments": {
    "image.png": {
     "image/png": "[encoded data removed]"
    }
   },
   "cell_type": "markdown",
   "metadata": {},
   "source": [
    "For Test set as 25 % of the data and Random_state=4 : \n",
    "R-squared:\t0.838\n",
    "\n",
    "Adj. R-squared:\t0.836\n",
    "\n",
    "![image.png](attachment:image.png)"
   ]
  },
  {
   "attachments": {
    "image.png": {
     "image/png": "[encoded data removed]"
    }
   },
   "cell_type": "markdown",
   "metadata": {},
   "source": [
    "For Test set as 90 % of the data and Random_state=4 :\n",
    "R-squared:\t0.849\n",
    "\n",
    "Adj. R-squared:\t0.827\n",
    "\n",
    "![image.png](attachment:image.png)"
   ]
  },
  {
   "cell_type": "markdown",
   "metadata": {},
   "source": [
    "# Question 4 : "
   ]
  },
  {
   "cell_type": "markdown",
   "metadata": {},
   "source": [
    "### (a) We're going to conduct a k-NN classification. To do this, we need a categorical dependent variable. Create a new column called total cat that takes the value \"fragile\" if the total score is greater than the median for total, and the value \"stable\" if the total score is less than or equal to the median for total. Show the first five rows of your updated data frame."
   ]
  },
  {
   "cell_type": "code",
   "execution_count": 58,
   "metadata": {},
   "outputs": [
    {
     "data": {
      "text/html": [
       "<div>\n",
       "<style scoped>\n",
       "    .dataframe tbody tr th:only-of-type {\n",
       "        vertical-align: middle;\n",
       "    }\n",
       "\n",
       "    .dataframe tbody tr th {\n",
       "        vertical-align: top;\n",
       "    }\n",
       "\n",
       "    .dataframe thead th {\n",
       "        text-align: right;\n",
       "    }\n",
       "</style>\n",
       "<table border=\"1\" class=\"dataframe\">\n",
       "  <thead>\n",
       "    <tr style=\"text-align: right;\">\n",
       "      <th></th>\n",
       "      <th>Country</th>\n",
       "      <th>Year</th>\n",
       "      <th>Rank</th>\n",
       "      <th>total</th>\n",
       "      <th>C1: Security Apparatus</th>\n",
       "      <th>C2: Factionalized Elites</th>\n",
       "      <th>grievance</th>\n",
       "      <th>economy</th>\n",
       "      <th>E2: Economic Inequality</th>\n",
       "      <th>E3: Human Flight and Brain Drain</th>\n",
       "      <th>P1: State Legitimacy</th>\n",
       "      <th>P2: Public Services</th>\n",
       "      <th>P3: Human Rights</th>\n",
       "      <th>S1: Demographic Pressures</th>\n",
       "      <th>S2: Refugees and IDPs</th>\n",
       "      <th>X1: External Intervention</th>\n",
       "      <th>Change from Previous Year</th>\n",
       "      <th>total_cat</th>\n",
       "    </tr>\n",
       "  </thead>\n",
       "  <tbody>\n",
       "    <tr>\n",
       "      <th>0</th>\n",
       "      <td>Yemen</td>\n",
       "      <td>2020-01-01</td>\n",
       "      <td>1st</td>\n",
       "      <td>112.438694</td>\n",
       "      <td>9.700000</td>\n",
       "      <td>10.0</td>\n",
       "      <td>9.69887</td>\n",
       "      <td>9.400000</td>\n",
       "      <td>7.800000</td>\n",
       "      <td>7.000000</td>\n",
       "      <td>9.889823</td>\n",
       "      <td>9.500000</td>\n",
       "      <td>9.950000</td>\n",
       "      <td>9.800000</td>\n",
       "      <td>9.7</td>\n",
       "      <td>10.000000</td>\n",
       "      <td>-1.061306</td>\n",
       "      <td>fragile</td>\n",
       "    </tr>\n",
       "    <tr>\n",
       "      <th>1</th>\n",
       "      <td>Somalia</td>\n",
       "      <td>2020-01-01</td>\n",
       "      <td>2nd</td>\n",
       "      <td>110.888959</td>\n",
       "      <td>9.811328</td>\n",
       "      <td>10.0</td>\n",
       "      <td>8.60000</td>\n",
       "      <td>9.100000</td>\n",
       "      <td>9.367151</td>\n",
       "      <td>8.900000</td>\n",
       "      <td>8.888107</td>\n",
       "      <td>9.100000</td>\n",
       "      <td>9.000000</td>\n",
       "      <td>9.981087</td>\n",
       "      <td>9.1</td>\n",
       "      <td>9.041286</td>\n",
       "      <td>-1.311041</td>\n",
       "      <td>fragile</td>\n",
       "    </tr>\n",
       "    <tr>\n",
       "      <th>2</th>\n",
       "      <td>South Sudan</td>\n",
       "      <td>2020-01-01</td>\n",
       "      <td>3rd</td>\n",
       "      <td>110.752190</td>\n",
       "      <td>9.400000</td>\n",
       "      <td>9.7</td>\n",
       "      <td>9.10000</td>\n",
       "      <td>9.500000</td>\n",
       "      <td>9.200000</td>\n",
       "      <td>6.800000</td>\n",
       "      <td>9.944415</td>\n",
       "      <td>9.500000</td>\n",
       "      <td>9.000000</td>\n",
       "      <td>9.450357</td>\n",
       "      <td>9.7</td>\n",
       "      <td>9.457419</td>\n",
       "      <td>-1.447810</td>\n",
       "      <td>fragile</td>\n",
       "    </tr>\n",
       "    <tr>\n",
       "      <th>3</th>\n",
       "      <td>Syria</td>\n",
       "      <td>2020-01-01</td>\n",
       "      <td>4th</td>\n",
       "      <td>110.749697</td>\n",
       "      <td>9.900000</td>\n",
       "      <td>9.9</td>\n",
       "      <td>10.00000</td>\n",
       "      <td>8.686367</td>\n",
       "      <td>7.200000</td>\n",
       "      <td>8.413343</td>\n",
       "      <td>9.950000</td>\n",
       "      <td>9.100000</td>\n",
       "      <td>10.000000</td>\n",
       "      <td>7.600000</td>\n",
       "      <td>10.0</td>\n",
       "      <td>9.999986</td>\n",
       "      <td>-0.850303</td>\n",
       "      <td>fragile</td>\n",
       "    </tr>\n",
       "    <tr>\n",
       "      <th>4</th>\n",
       "      <td>Congo Democratic Republic</td>\n",
       "      <td>2020-01-01</td>\n",
       "      <td>5th</td>\n",
       "      <td>109.394621</td>\n",
       "      <td>8.500000</td>\n",
       "      <td>9.8</td>\n",
       "      <td>9.70000</td>\n",
       "      <td>8.000000</td>\n",
       "      <td>8.619842</td>\n",
       "      <td>6.900000</td>\n",
       "      <td>9.660971</td>\n",
       "      <td>9.464911</td>\n",
       "      <td>9.548897</td>\n",
       "      <td>9.800000</td>\n",
       "      <td>10.0</td>\n",
       "      <td>9.400000</td>\n",
       "      <td>-0.805379</td>\n",
       "      <td>fragile</td>\n",
       "    </tr>\n",
       "  </tbody>\n",
       "</table>\n",
       "</div>"
      ],
      "text/plain": [
       "                     Country        Year Rank       total  \\\n",
       "0                      Yemen  2020-01-01  1st  112.438694   \n",
       "1                    Somalia  2020-01-01  2nd  110.888959   \n",
       "2                South Sudan  2020-01-01  3rd  110.752190   \n",
       "3                      Syria  2020-01-01  4th  110.749697   \n",
       "4  Congo Democratic Republic  2020-01-01  5th  109.394621   \n",
       "\n",
       "   C1: Security Apparatus  C2: Factionalized Elites  grievance   economy  \\\n",
       "0                9.700000                      10.0    9.69887  9.400000   \n",
       "1                9.811328                      10.0    8.60000  9.100000   \n",
       "2                9.400000                       9.7    9.10000  9.500000   \n",
       "3                9.900000                       9.9   10.00000  8.686367   \n",
       "4                8.500000                       9.8    9.70000  8.000000   \n",
       "\n",
       "   E2: Economic Inequality  E3: Human Flight and Brain Drain  \\\n",
       "0                 7.800000                          7.000000   \n",
       "1                 9.367151                          8.900000   \n",
       "2                 9.200000                          6.800000   \n",
       "3                 7.200000                          8.413343   \n",
       "4                 8.619842                          6.900000   \n",
       "\n",
       "   P1: State Legitimacy  P2: Public Services  P3: Human Rights  \\\n",
       "0              9.889823             9.500000          9.950000   \n",
       "1              8.888107             9.100000          9.000000   \n",
       "2              9.944415             9.500000          9.000000   \n",
       "3              9.950000             9.100000         10.000000   \n",
       "4              9.660971             9.464911          9.548897   \n",
       "\n",
       "   S1: Demographic Pressures  S2: Refugees and IDPs  \\\n",
       "0                   9.800000                    9.7   \n",
       "1                   9.981087                    9.1   \n",
       "2                   9.450357                    9.7   \n",
       "3                   7.600000                   10.0   \n",
       "4                   9.800000                   10.0   \n",
       "\n",
       "   X1: External Intervention  Change from Previous Year total_cat  \n",
       "0                  10.000000                  -1.061306   fragile  \n",
       "1                   9.041286                  -1.311041   fragile  \n",
       "2                   9.457419                  -1.447810   fragile  \n",
       "3                   9.999986                  -0.850303   fragile  \n",
       "4                   9.400000                  -0.805379   fragile  "
      ]
     },
     "execution_count": 58,
     "metadata": {},
     "output_type": "execute_result"
    }
   ],
   "source": [
    "median_total = data.total.median()\n",
    "data['total_cat'] = data.total.apply(lambda x : 'fragile' if x > median_total else 'stable')\n",
    "data.head()"
   ]
  },
  {
   "cell_type": "markdown",
   "metadata": {},
   "source": [
    "### (b) Create your X and y arrays using the iloc syntax in your setup."
   ]
  },
  {
   "cell_type": "code",
   "execution_count": 59,
   "metadata": {},
   "outputs": [],
   "source": [
    "X = data.iloc[:, 6:8].values\n",
    "y = data.iloc[:, 17].values"
   ]
  },
  {
   "cell_type": "markdown",
   "metadata": {},
   "source": [
    "### (c) Divide your X and y into training and test sets. Make the test set 25% of your data and set the random_state to 4.\n"
   ]
  },
  {
   "cell_type": "code",
   "execution_count": 60,
   "metadata": {},
   "outputs": [
    {
     "name": "stdout",
     "output_type": "stream",
     "text": [
      "(133, 2) (45, 2)\n",
      "(133,) (45,)\n"
     ]
    }
   ],
   "source": [
    "X_train, X_test, y_train, y_test= train_test_split(X, y,train_size=0.75, random_state=4)\n",
    "print(X_train.shape, X_test.shape)\n",
    "print(y_train.shape, y_test.shape)"
   ]
  },
  {
   "cell_type": "markdown",
   "metadata": {},
   "source": [
    "### (d) Train your algorithm.\n"
   ]
  },
  {
   "cell_type": "code",
   "execution_count": 61,
   "metadata": {},
   "outputs": [
    {
     "data": {
      "text/plain": [
       "KNeighborsClassifier()"
      ]
     },
     "execution_count": 61,
     "metadata": {},
     "output_type": "execute_result"
    }
   ],
   "source": [
    "from sklearn.neighbors import KNeighborsClassifier\n",
    "model = KNeighborsClassifier()\n",
    "model.fit(X_train, y_train)\n"
   ]
  },
  {
   "cell_type": "markdown",
   "metadata": {},
   "source": [
    "### (e) Generate a table of the first 10 actual vs. predicted values. How does it look like you did?"
   ]
  },
  {
   "cell_type": "code",
   "execution_count": 62,
   "metadata": {},
   "outputs": [],
   "source": [
    "y_pred = model.predict(X_test)"
   ]
  },
  {
   "cell_type": "markdown",
   "metadata": {},
   "source": [
    "### (f) Print the confusion matrix and classification report. Interpret the confusion matrix."
   ]
  },
  {
   "cell_type": "code",
   "execution_count": 63,
   "metadata": {},
   "outputs": [
    {
     "name": "stdout",
     "output_type": "stream",
     "text": [
      "[[18  3]\n",
      " [ 5 19]]\n",
      "              precision    recall  f1-score   support\n",
      "\n",
      "     fragile       0.78      0.86      0.82        21\n",
      "      stable       0.86      0.79      0.83        24\n",
      "\n",
      "    accuracy                           0.82        45\n",
      "   macro avg       0.82      0.82      0.82        45\n",
      "weighted avg       0.83      0.82      0.82        45\n",
      "\n"
     ]
    }
   ],
   "source": [
    "from sklearn.metrics import classification_report, confusion_matrix\n",
    "print(confusion_matrix(y_test, y_pred))\n",
    "print(classification_report(y_test, y_pred))"
   ]
  },
  {
   "cell_type": "markdown",
   "metadata": {},
   "source": [
    "### (g) Create a plot of the mean error of the model for different values of k between 1 and 50"
   ]
  },
  {
   "cell_type": "code",
   "execution_count": 64,
   "metadata": {},
   "outputs": [
    {
     "data": {
      "text/plain": [
       "Text(0, 0.5, 'Mean Error')"
      ]
     },
     "execution_count": 64,
     "metadata": {},
     "output_type": "execute_result"
    },
    {
     "data": {
      "image/png": "[encoded data removed]",
      "text/plain": [
       "<Figure size 864x432 with 1 Axes>"
      ]
     },
     "metadata": {
      "needs_background": "light"
     },
     "output_type": "display_data"
    }
   ],
   "source": [
    "error = []\n",
    "for i in range(1, 50):\n",
    "    knn = KNeighborsClassifier(n_neighbors=i)\n",
    "    knn.fit(X_train, y_train)\n",
    "    pred_i = knn.predict(X_test)\n",
    "    error.append(np.mean(pred_i != y_test))\n",
    "    \n",
    "plt.figure(figsize=(12, 6))\n",
    "plt.plot(range(1, 50), error, color='red', linestyle='dashed', marker='o',\n",
    "         markerfacecolor='blue', markersize=10)\n",
    "plt.title('Error Rate K Value')\n",
    "plt.xlabel('K Value')\n",
    "plt.ylabel('Mean Error')"
   ]
  },
  {
   "cell_type": "markdown",
   "metadata": {},
   "source": [
    "### (h) How does the model perform as k increases?"
   ]
  },
  {
   "cell_type": "markdown",
   "metadata": {},
   "source": [
    "From the Graph we can see that the mean error is near zero (0.111) when the value of the K is 2 . \n",
    "As we increase the value of k form 1 to 50, initially it decreases on 2 and then increase and after some time, it stablies on 0.15 roughly for values from 14 till 50. \n",
    "Which represent increasing k doesn't always mean drop in mean error as we can see in the above graph."
   ]
  },
  {
   "cell_type": "markdown",
   "metadata": {},
   "source": [
    "# Question 5"
   ]
  },
  {
   "cell_type": "markdown",
   "metadata": {},
   "source": [
    "### (a) Looking back on our work across four models, how confident are you that we've explained state fragility with these two independent variables, and why?"
   ]
  },
  {
   "cell_type": "markdown",
   "metadata": {},
   "source": [
    "In first 3 models, we have build a linear regression model and correctly predicted test data using our models with accurancy of around 80 %. In last model we have created a classification model and in that model we can use of confusion metrics to depict the errors in explaining fragility and the precision is 0.78. So, we can say that by 78 % confidence that we are able to explain state fragility with these two independent variables. "
   ]
  },
  {
   "cell_type": "markdown",
   "metadata": {},
   "source": [
    "### (b) Is there a risk of endogeneity in our research? If yes, please provide examples for each relevant independent variable."
   ]
  },
  {
   "cell_type": "code",
   "execution_count": 65,
   "metadata": {},
   "outputs": [
    {
     "name": "stdout",
     "output_type": "stream",
     "text": [
      "Missing values in dataset : 0\n"
     ]
    }
   ],
   "source": [
    "print(\"Missing values in dataset :\",  data.isna().sum().sum())"
   ]
  },
  {
   "cell_type": "markdown",
   "metadata": {},
   "source": [
    "Endogeneity refers to a situation when an independent variable is correlated to the error term.\n",
    "Sources of endogeneity : \n",
    "- omitted variables \n",
    "- simultaneity \n",
    "- selection bias\n",
    "\n",
    "Yes, there is always some risk of endogeneity in our research. \n",
    "\n",
    "- As there are 0 missing values in our dataset omitted variables is not a problem for us. \n",
    "- simultaneity means -  where X causes Y and Y causes X , as we can see from plot in Question 6-c, there is not direct causation between variable. \n",
    "- There can be some selection bias in our model as we have kept low random state and haven't done cross validation or shuffling. \n"
   ]
  },
  {
   "cell_type": "markdown",
   "metadata": {},
   "source": [
    "### (c) Is there a risk of confounders? If yes, please provide examples for each relevant independent variable."
   ]
  },
  {
   "cell_type": "markdown",
   "metadata": {},
   "source": [
    "Confounder is a variable that influences both the dependent variable and independent variable, causing a spurious association."
   ]
  },
  {
   "cell_type": "code",
   "execution_count": 66,
   "metadata": {},
   "outputs": [
    {
     "data": {
      "image/png": "[encoded data removed]",
      "text/plain": [
       "<Figure size 432x288 with 1 Axes>"
      ]
     },
     "metadata": {
      "needs_background": "light"
     },
     "output_type": "display_data"
    }
   ],
   "source": [
    "plt.scatter(data.economy, data.grievance)\n",
    "plt.show()"
   ]
  },
  {
   "cell_type": "markdown",
   "metadata": {},
   "source": [
    "Althought, there is no direct connection between correlation between vars and confounders, but still we can get a rought idea.\n",
    "\n",
    "As, we can see the scatter plot between our 2 independent vars - economy and grievance that thet are scattered across the plane and don't form any kind of linear or non linear correlation amoung each other."
   ]
  },
  {
   "cell_type": "markdown",
   "metadata": {},
   "source": [
    "### (d) How confident are you in terms of how the variables we've worked with are measured? Please describe your answer in terms of conceptualization and operationalization."
   ]
  },
  {
   "cell_type": "code",
   "execution_count": 67,
   "metadata": {},
   "outputs": [
    {
     "name": "stdout",
     "output_type": "stream",
     "text": [
      "(178, 18)\n"
     ]
    }
   ],
   "source": [
    "print(data.shape)"
   ]
  },
  {
   "cell_type": "markdown",
   "metadata": {},
   "source": [
    "We have used 2 variables - Economy and Grievance\n",
    "- Conceptualization - Process of definening or specifying the concept - First step of measurement process. I think the problem statement and the data collected for the purpose are in alignment and rank wise analysis gives us a good understanding of the position of the country. \n",
    "\n",
    "- Operationalization - Second step in measurement process - As there are records of around 178 countries and 18 factors are considered for data collection, I feel there is ample of data available for analysis while more features can be considered to conclude state of the county for a particular year. "
   ]
  },
  {
   "cell_type": "markdown",
   "metadata": {},
   "source": [
    "### (e) What is a next step you might recommend to improve research on this topic?"
   ]
  },
  {
   "cell_type": "markdown",
   "metadata": {},
   "source": [
    "- Analysis Wise : We can include more feature given in the dataset to increase the accuracy and try model selection method to choose the best Machine learning algorithm to find the optimal solution.\n",
    "\n",
    "- Research wise : https://fragilestatesindex.org/  : Ample of data and information is present on FSI website as well as historical data is also present to do a comparative study and do a predictive analysis on the performance of countries in coming future.  "
   ]
  }
 ],
 "metadata": {
  "kernelspec": {
   "display_name": "Python 3",
   "language": "python",
   "name": "python3"
  },
  "language_info": {
   "codemirror_mode": {
    "name": "ipython",
    "version": 3
   },
   "file_extension": ".py",
   "mimetype": "text/x-python",
   "name": "python",
   "nbconvert_exporter": "python",
   "pygments_lexer": "ipython3",
   "version": "3.8.3"
  }
 },
 "nbformat": 4,
 "nbformat_minor": 4
}
